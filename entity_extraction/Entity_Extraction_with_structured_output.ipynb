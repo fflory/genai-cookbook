{
 "cells": [
  {
   "cell_type": "markdown",
   "metadata": {
    "application/vnd.databricks.v1+cell": {
     "cellMetadata": {
      "byteLimit": 2048000,
      "rowLimit": 10000
     },
     "inputWidgets": {},
     "nuid": "ca332971-cb5a-4576-8e23-f6a7a58dbe29",
     "showTitle": false,
     "tableResultSettingsMap": {},
     "title": ""
    }
   },
   "source": [
    "# Entity Extraction with Structured Output\n",
    "\n",
    "Databricks Doc: https://docs.databricks.com/en/machine-learning/model-serving/structured-outputs.html\n",
    "\n",
    "OpenAI doc: https://platform.openai.com/docs/guides/function-calling"
   ]
  },
  {
   "cell_type": "code",
   "execution_count": 0,
   "metadata": {
    "application/vnd.databricks.v1+cell": {
     "cellMetadata": {
      "byteLimit": 2048000,
      "rowLimit": 10000
     },
     "inputWidgets": {},
     "nuid": "d7f8d10a-f073-4530-a071-9f332bff1f83",
     "showTitle": false,
     "tableResultSettingsMap": {},
     "title": ""
    },
    "jupyter": {
     "outputs_hidden": true
    }
   },
   "outputs": [],
   "source": [
    "%pip install mlflow openai --quiet\n",
    "\n",
    "dbutils.library.restartPython()"
   ]
  },
  {
   "cell_type": "code",
   "execution_count": 0,
   "metadata": {
    "application/vnd.databricks.v1+cell": {
     "cellMetadata": {
      "byteLimit": 2048000,
      "rowLimit": 10000
     },
     "inputWidgets": {},
     "nuid": "a5d549fc-30c9-44da-9632-cad61662c22c",
     "showTitle": false,
     "tableResultSettingsMap": {},
     "title": ""
    },
    "jupyter": {
     "outputs_hidden": true
    }
   },
   "outputs": [],
   "source": [
    "%run ../rag_app_sample_code/A_POC_app/pdf_uc_volume/00_config"
   ]
  },
  {
   "cell_type": "markdown",
   "metadata": {
    "application/vnd.databricks.v1+cell": {
     "cellMetadata": {
      "byteLimit": 2048000,
      "rowLimit": 10000
     },
     "inputWidgets": {},
     "nuid": "b6362523-4ae9-4fb3-a2e0-2d72c6ed8b8c",
     "showTitle": false,
     "tableResultSettingsMap": {},
     "title": ""
    }
   },
   "source": [
    "## Preparation"
   ]
  },
  {
   "cell_type": "code",
   "execution_count": 0,
   "metadata": {
    "application/vnd.databricks.v1+cell": {
     "cellMetadata": {
      "byteLimit": 2048000,
      "rowLimit": 10000
     },
     "inputWidgets": {},
     "nuid": "424cad31-81e3-48d3-b79c-6c700c523d68",
     "showTitle": false,
     "tableResultSettingsMap": {},
     "title": ""
    }
   },
   "outputs": [],
   "source": [
    "# get Databricks credentials\n",
    "import openai\n",
    "from mlflow.utils.databricks_utils import get_databricks_host_creds\n",
    "\n",
    "creds = get_databricks_host_creds()"
   ]
  },
  {
   "cell_type": "code",
   "execution_count": 0,
   "metadata": {
    "application/vnd.databricks.v1+cell": {
     "cellMetadata": {
      "byteLimit": 2048000,
      "rowLimit": 10000
     },
     "inputWidgets": {},
     "nuid": "5d24bd66-2ec6-4343-abca-32a836516b10",
     "showTitle": false,
     "tableResultSettingsMap": {},
     "title": ""
    }
   },
   "outputs": [],
   "source": [
    "# use openai's client to make calls to Databricks Foundation Model API\n",
    "client = openai.OpenAI(\n",
    "    api_key=creds.token,\n",
    "    base_url=creds.host + '/serving-endpoints',\n",
    ")\n",
    "\n",
    "model = \"databricks-meta-llama-3-1-70b-instruct\""
   ]
  },
  {
   "cell_type": "code",
   "execution_count": 0,
   "metadata": {
    "application/vnd.databricks.v1+cell": {
     "cellMetadata": {
      "byteLimit": 2048000,
      "rowLimit": 10000
     },
     "inputWidgets": {},
     "nuid": "3b8ed9f8-3477-485b-a508-ba5a68b9f00b",
     "showTitle": false,
     "tableResultSettingsMap": {},
     "title": ""
    }
   },
   "outputs": [],
   "source": [
    "parsed_docs = spark.table(destination_tables_config[\"parsed_docs_table_name\"])"
   ]
  },
  {
   "cell_type": "code",
   "execution_count": 0,
   "metadata": {
    "application/vnd.databricks.v1+cell": {
     "cellMetadata": {
      "byteLimit": 2048000,
      "rowLimit": 10000
     },
     "inputWidgets": {},
     "nuid": "62c8b713-d5f8-499a-9ad8-18f4661eef67",
     "showTitle": false,
     "tableResultSettingsMap": {},
     "title": ""
    }
   },
   "outputs": [],
   "source": [
    "# display(parsed_docs)"
   ]
  },
  {
   "cell_type": "code",
   "execution_count": 0,
   "metadata": {
    "application/vnd.databricks.v1+cell": {
     "cellMetadata": {
      "byteLimit": 2048000,
      "rowLimit": 10000
     },
     "inputWidgets": {},
     "nuid": "0eb41cc1-6635-472f-afab-70fd47a8d43e",
     "showTitle": false,
     "tableResultSettingsMap": {},
     "title": ""
    }
   },
   "outputs": [],
   "source": [
    "import pyspark.sql.functions as F\n",
    "_path = \"dbfs:/Volumes/felixflory/ey_dbs_workshop_2024_10/raw_data/project_churches/Project Churches - FINAL Red Flag Report 181121.pdf\"\n",
    "F.lit(_path)"
   ]
  },
  {
   "cell_type": "code",
   "execution_count": 0,
   "metadata": {
    "application/vnd.databricks.v1+cell": {
     "cellMetadata": {
      "byteLimit": 2048000,
      "rowLimit": 10000
     },
     "inputWidgets": {},
     "nuid": "05fc4f94-c479-4991-8775-0bb4b16cab87",
     "showTitle": false,
     "tableResultSettingsMap": {},
     "title": ""
    }
   },
   "outputs": [],
   "source": [
    "sample = (\n",
    "  parsed_docs\n",
    "  .select(\"doc_parsed_contents\")\n",
    "  .where(F.col(\"path\") == F.lit(_path))\n",
    "  .take(1)[0].doc_parsed_contents['parsed_content'])"
   ]
  },
  {
   "cell_type": "code",
   "execution_count": 0,
   "metadata": {
    "application/vnd.databricks.v1+cell": {
     "cellMetadata": {
      "byteLimit": 2048000,
      "rowLimit": 10000
     },
     "inputWidgets": {},
     "nuid": "07e49d85-963e-4186-a0e8-ac0b331d2fc1",
     "showTitle": false,
     "tableResultSettingsMap": {},
     "title": ""
    }
   },
   "outputs": [],
   "source": [
    "# print(sample[:100])"
   ]
  },
  {
   "cell_type": "markdown",
   "metadata": {
    "application/vnd.databricks.v1+cell": {
     "cellMetadata": {
      "byteLimit": 2048000,
      "rowLimit": 10000
     },
     "inputWidgets": {},
     "nuid": "bdaee9ac-4a4d-4858-bb91-dba5ad119f22",
     "showTitle": false,
     "tableResultSettingsMap": {},
     "title": ""
    }
   },
   "source": [
    "## `Structured output` with Llama 3.1 70b\n",
    "\n",
    "* Since you are looking to extract information from a piece of text and perform structured output, `response-format` is a good tool for this\n",
    "* Basically, you are constraining the output of the LLM to something that's structured and valid\n",
    "* At this time, out of all the models that we offer in our Foundation Model API, only `databricks-meta-llama-3-1-70b-instruct` and the 405 version currently have `function-calling` enabled. "
   ]
  },
  {
   "cell_type": "code",
   "execution_count": 0,
   "metadata": {
    "application/vnd.databricks.v1+cell": {
     "cellMetadata": {
      "byteLimit": 2048000,
      "rowLimit": 10000
     },
     "inputWidgets": {},
     "nuid": "cba5fc07-c0ba-456d-9f3d-443d5ff563bd",
     "showTitle": false,
     "tableResultSettingsMap": {},
     "title": ""
    }
   },
   "outputs": [],
   "source": [
    "# create your function schema\n",
    "response_format = {\n",
    "    \"type\": \"json_schema\",\n",
    "    \"json_schema\": {\n",
    "        \"name\": \"get_EBITDA_kpi_1\",\n",
    "        # \"description\": \"Get EBITDA kpi values\",\n",
    "        \"schema\": {\n",
    "            \"type\": \"object\",\n",
    "            \"properties\": {\n",
    "                \"reported_EBITDA\": {\n",
    "                    \"type\": \"string\",\n",
    "                    \"description\": \"Reported EBITDA for the year 2021\",\n",
    "                },\n",
    "                \"adjusted_EBITDA\": {\n",
    "                    \"type\": \"string\",\n",
    "                    \"description\": \"adjusted EBITDA for for the year 2021 Source: Management information & EY analysis\",\n",
    "                },\n",
    "                \"min_adjusted_NWC\": {\n",
    "                    \"type\": \"array\", \"items\": {\"type\": \"integer\"},\n",
    "                    \"description\": \"4 values of the 'Min. adjusted NWC'; the Source: Management information & EY analysis\",\n",
    "                },\n",
    "                \"max_adjusted_NWC\": {\n",
    "                    \"type\": \"array\", \"items\": {\"type\": \"integer\"},\n",
    "                    \"description\": \"4 values of the 'Max. adjusted NWC'; the Source: Management information & EY analysis\",\n",
    "                },\n",
    "            },\n",
    "        },\n",
    "    },\n",
    "}"
   ]
  },
  {
   "cell_type": "markdown",
   "metadata": {
    "application/vnd.databricks.v1+cell": {
     "cellMetadata": {
      "byteLimit": 2048000,
      "rowLimit": 10000
     },
     "inputWidgets": {},
     "nuid": "6d5a4b4f-778b-46ca-9da6-24573d78c930",
     "showTitle": false,
     "tableResultSettingsMap": {},
     "title": ""
    }
   },
   "source": [
    "Note that only the function_schema is defined and not a function itself. The tool calling below will only produce the function arguments and not call a function itself. The arguments to the function are the extracted entities. "
   ]
  },
  {
   "cell_type": "code",
   "execution_count": 0,
   "metadata": {
    "application/vnd.databricks.v1+cell": {
     "cellMetadata": {
      "byteLimit": 2048000,
      "rowLimit": 10000
     },
     "inputWidgets": {},
     "nuid": "38547e81-3a75-4ae6-9dcf-a551bb114ae0",
     "showTitle": false,
     "tableResultSettingsMap": {},
     "title": ""
    }
   },
   "outputs": [],
   "source": [
    "# model = \"databricks-meta-llama-3-1-70b-instruct\"\n",
    "model = \"Yash_GPT_4o\""
   ]
  },
  {
   "cell_type": "code",
   "execution_count": 0,
   "metadata": {
    "application/vnd.databricks.v1+cell": {
     "cellMetadata": {
      "byteLimit": 2048000,
      "rowLimit": 10000
     },
     "inputWidgets": {},
     "nuid": "12bad6ec-a515-4f7a-b177-8a4391b9d40d",
     "showTitle": false,
     "tableResultSettingsMap": {},
     "title": ""
    },
    "jupyter": {
     "outputs_hidden": true
    }
   },
   "outputs": [],
   "source": [
    "messages = [{\n",
    "        \"role\": \"system\",\n",
    "        \"content\": \"You are an expert at structured data extraction. You will be given unstructured text from a document and should convert it into the given structure.\"\n",
    "      },\n",
    "      {\n",
    "        \"role\": \"user\",\n",
    "        \"content\": f\"Given the following information, please provide kpi information: \\n{sample}\\n\"\n",
    "      }]\n",
    "\n",
    "response = client.chat.completions.create(\n",
    "    model=model,\n",
    "    messages=messages,\n",
    "    temperature=0.0,\n",
    "    response_format=response_format,\n",
    "    # tools=[t],\n",
    "    # tool_choice=\"required\",\n",
    ")"
   ]
  },
  {
   "cell_type": "code",
   "execution_count": 0,
   "metadata": {
    "application/vnd.databricks.v1+cell": {
     "cellMetadata": {
      "byteLimit": 2048000,
      "rowLimit": 10000
     },
     "inputWidgets": {},
     "nuid": "4972ff44-a1d7-4a2d-94b5-39ed6e3a1220",
     "showTitle": false,
     "tableResultSettingsMap": {},
     "title": ""
    }
   },
   "outputs": [],
   "source": [
    "# print(json.dumps(json.loads(response.choices[0].message.model_dump()['content']), indent=2))"
   ]
  },
  {
   "cell_type": "code",
   "execution_count": 0,
   "metadata": {
    "application/vnd.databricks.v1+cell": {
     "cellMetadata": {
      "byteLimit": 2048000,
      "rowLimit": 10000
     },
     "inputWidgets": {},
     "nuid": "93203636-306c-498f-98e7-cb13d8db2905",
     "showTitle": false,
     "tableResultSettingsMap": {},
     "title": ""
    }
   },
   "outputs": [],
   "source": [
    "# response.to_dict()"
   ]
  },
  {
   "cell_type": "code",
   "execution_count": 0,
   "metadata": {
    "application/vnd.databricks.v1+cell": {
     "cellMetadata": {},
     "inputWidgets": {},
     "nuid": "fb085fe5-cd62-4e8d-970b-c9ee7652d9be",
     "showTitle": false,
     "tableResultSettingsMap": {},
     "title": ""
    }
   },
   "outputs": [],
   "source": []
  }
 ],
 "metadata": {
  "application/vnd.databricks.v1+notebook": {
   "dashboards": [],
   "environmentMetadata": {
    "base_environment": "",
    "client": "1"
   },
   "language": "python",
   "notebookMetadata": {
    "pythonIndentUnit": 2
   },
   "notebookName": "Entity_Extraction_with_structured_output",
   "widgets": {}
  },
  "language_info": {
   "name": "python"
  }
 },
 "nbformat": 4,
 "nbformat_minor": 0
}
