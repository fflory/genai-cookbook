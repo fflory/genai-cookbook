{
 "cells": [
  {
   "cell_type": "code",
   "execution_count": 0,
   "metadata": {
    "application/vnd.databricks.v1+cell": {
     "cellMetadata": {
      "byteLimit": 2048000,
      "rowLimit": 10000
     },
     "inputWidgets": {},
     "nuid": "c40eca7c-d253-4308-9e57-77ace1aeb94e",
     "showTitle": false,
     "title": ""
    }
   },
   "outputs": [],
   "source": [
    "!wget -qO- https://github.com/jgm/pandoc/releases/download/3.5/pandoc-3.5-linux-amd64.tar.gz | tar xvz -C /usr/local/bin\n",
    "!mv /usr/local/bin/pandoc-3.5/bin/pandoc /usr/local/bin"
   ]
  },
  {
   "cell_type": "code",
   "execution_count": 0,
   "metadata": {
    "application/vnd.databricks.v1+cell": {
     "cellMetadata": {
      "byteLimit": 2048000,
      "rowLimit": 10000
     },
     "inputWidgets": {},
     "nuid": "285aee85-4410-4d17-bc0d-05d5d3115462",
     "showTitle": false,
     "title": ""
    }
   },
   "outputs": [],
   "source": [
    "%pip install pymupdf python-Levenshtein pandoc\n",
    "dbutils.library.restartPython()"
   ]
  },
  {
   "cell_type": "code",
   "execution_count": 0,
   "metadata": {
    "application/vnd.databricks.v1+cell": {
     "cellMetadata": {
      "byteLimit": 2048000,
      "rowLimit": 10000
     },
     "inputWidgets": {},
     "nuid": "065d8cbb-8590-4577-b83a-8ca70b092015",
     "showTitle": false,
     "title": ""
    }
   },
   "outputs": [],
   "source": [
    "from huggingface_hub import hf_hub_download\n",
    "import re\n",
    "from PIL import Image\n",
    "\n",
    "from transformers import NougatProcessor, VisionEncoderDecoderModel\n",
    "from datasets import load_dataset\n",
    "import torch"
   ]
  },
  {
   "cell_type": "code",
   "execution_count": 0,
   "metadata": {
    "application/vnd.databricks.v1+cell": {
     "cellMetadata": {
      "byteLimit": 2048000,
      "rowLimit": 10000
     },
     "inputWidgets": {},
     "nuid": "16d601a5-c3d2-4450-80bc-77fd9f04f1d4",
     "showTitle": false,
     "title": ""
    }
   },
   "outputs": [],
   "source": [
    "processor = NougatProcessor.from_pretrained(\"facebook/nougat-base\")\n",
    "model = VisionEncoderDecoderModel.from_pretrained(\"facebook/nougat-base\")\n",
    "\n",
    "device = \"cuda\" if torch.cuda.is_available() else \"cpu\"\n",
    "model.to(device)"
   ]
  },
  {
   "cell_type": "code",
   "execution_count": 0,
   "metadata": {
    "application/vnd.databricks.v1+cell": {
     "cellMetadata": {
      "byteLimit": 2048000,
      "rowLimit": 10000
     },
     "inputWidgets": {},
     "nuid": "9b891ef6-80c6-48cb-885c-b4fee33dd8da",
     "showTitle": false,
     "title": ""
    }
   },
   "outputs": [],
   "source": [
    "!nvidia-smi"
   ]
  },
  {
   "cell_type": "code",
   "execution_count": 0,
   "metadata": {
    "application/vnd.databricks.v1+cell": {
     "cellMetadata": {
      "byteLimit": 2048000,
      "rowLimit": 10000
     },
     "inputWidgets": {},
     "nuid": "c40a4f98-42da-47a6-b58d-17c046351c0b",
     "showTitle": false,
     "title": ""
    }
   },
   "outputs": [],
   "source": [
    "import fitz\n",
    "\n",
    "# _pdf_path = \"/Volumes/field_ai_examples/alphaleger/financebench/pdf/3M_2015_10K.pdf\"\n",
    "_pdf_path = \"/Volumes/felixflory/ey_dbs_workshop_2024_10/raw_data/project_churches/Project Churches - FINAL Red Flag Report 181121.pdf\"\n",
    "pdf_document = fitz.open(_pdf_path)"
   ]
  },
  {
   "cell_type": "code",
   "execution_count": 0,
   "metadata": {
    "application/vnd.databricks.v1+cell": {
     "cellMetadata": {
      "byteLimit": 2048000,
      "rowLimit": 10000
     },
     "inputWidgets": {},
     "nuid": "33789f74-bd69-4f6f-b63e-9c55be521281",
     "showTitle": false,
     "title": ""
    }
   },
   "outputs": [],
   "source": [
    "# Uncomment if running for the first time\n",
    "# \n",
    "for page in pdf_document:  # iterate through the pages\n",
    "    pix = page.get_pixmap(dpi=600)  # render page to an image\n",
    "    pix.save(\"images/page-%i.png\" % page.number)  # store image as a PNG"
   ]
  },
  {
   "cell_type": "code",
   "execution_count": 0,
   "metadata": {
    "application/vnd.databricks.v1+cell": {
     "cellMetadata": {
      "byteLimit": 2048000,
      "rowLimit": 10000
     },
     "inputWidgets": {},
     "nuid": "b9167c1a-1c6e-48af-825e-2650638cba9e",
     "showTitle": false,
     "title": ""
    }
   },
   "outputs": [],
   "source": [
    "# prepare PDF image for the model\n",
    "filepath = \"/Workspace/Users/felix.flory@databricks.com/git/ey-dbs-cookbook-2024-10/entity_extraction/images/page-12.png\"\n",
    "image = Image.open(filepath)\n",
    "pixel_values = processor(image, return_tensors=\"pt\").pixel_values\n",
    "\n",
    "# generate transcription (here we only generate 30 tokens)\n",
    "outputs = model.generate(\n",
    "    pixel_values.to(device),\n",
    "    min_length=1,\n",
    "    max_new_tokens=2000,\n",
    "    bad_words_ids=[[processor.tokenizer.unk_token_id]],\n",
    ")\n",
    "\n",
    "decoded = processor.batch_decode(outputs, skip_special_tokens=True)[0]"
   ]
  },
  {
   "cell_type": "code",
   "execution_count": 0,
   "metadata": {
    "application/vnd.databricks.v1+cell": {
     "cellMetadata": {
      "byteLimit": 2048000,
      "rowLimit": 10000
     },
     "inputWidgets": {},
     "nuid": "0026352c-201b-4ddd-813b-6c668f995bc0",
     "showTitle": false,
     "title": ""
    }
   },
   "outputs": [],
   "source": [
    "sequence = processor.post_process_generation(decoded, fix_markdown=False)\n",
    "# note: we're using repr here such for the sake of printing the \\n characters, feel free to just print the sequence\n",
    "print(repr(sequence))"
   ]
  },
  {
   "cell_type": "code",
   "execution_count": 0,
   "metadata": {
    "application/vnd.databricks.v1+cell": {
     "cellMetadata": {
      "byteLimit": 2048000,
      "rowLimit": 10000
     },
     "inputWidgets": {},
     "nuid": "57b62808-6120-4b9f-9e81-ddb3fc03c905",
     "showTitle": false,
     "title": ""
    }
   },
   "outputs": [],
   "source": [
    "print(sequence)"
   ]
  },
  {
   "cell_type": "markdown",
   "metadata": {
    "application/vnd.databricks.v1+cell": {
     "cellMetadata": {},
     "inputWidgets": {},
     "nuid": "bf7a729a-c465-4ea9-8f08-a1b2e6c84724",
     "showTitle": false,
     "title": ""
    }
   },
   "source": [
    "$$\n",
    "\\begin{tabular}{l r r r r r r r r r}\n",
    "& \\multicolumn{4}{c}{2015} & \\multicolumn{3}{c}{2014} & \\multicolumn{2}{c}{2015 vs 2014} \\\\\n",
    "\\cline{2-10}\n",
    "& Net & \\% of & Oper. & Net & \\% of & Oper. & Net & Oper. & Net \\\\\n",
    "(Dollars in millions) & Sales & Total & Income & Sales & Total & Income & Sales & Income & Sales \\\\\n",
    "\\hline\n",
    "\\textbf{Business Segments} & & & & & & & & & \\\\\n",
    "Industrial & \\$ & 10,328 & 34.1\\% & \\$ & 2,263 & \\$ & 10,990 & 34.5\\% & (6.0)\\% \\\\\n",
    "Safety and Graphics & & 5,515 & 18.2\\% & 1,305 & & 5,732 & 18.0\\% & 1,296 & (3.8)\\% \\\\\n",
    "Health Care & & 5,420 & 17.9\\% & 1,724 & 5,572 & 17.5\\% & 1,724 & (2.7)\\% & --\\% \\\\\n",
    "Electronics and Energy & & 5,240 & 17.2\\% & 1,802 & 5,604 & 17.6\\% & 1,115 & (6.8)\\% & (1.1)\\% \\\\\n",
    "Consumer & & 4,422 & 14.6\\% & 1,046 & 4,523 & 14.2\\% & 995 & (2.2)\\% & 5.2\\% \\\\\n",
    "Corporate and Unallocated & & -- & --\\% & (355) & & -- & --\\% & (251) & \\\\\n",
    "Elimination of Dual Credit & & (632) & (2.0)\\% & (139) & (604) & (1.8)\\% & (133) & --\\% & --\\% \\\\\n",
    "\\hline\n",
    "Total Company & \\$ & \\textbf{30,274} & \\textbf{100.0\\%} & \\$ & 6,946 & \\$ & 31,821 & 100.0\\% & (4.9)\\% \\\\\n",
    "\\end{tabular}\n",
    "$$"
   ]
  },
  {
   "cell_type": "markdown",
   "metadata": {
    "application/vnd.databricks.v1+cell": {
     "cellMetadata": {},
     "inputWidgets": {},
     "nuid": "f1ee5816-0562-4dfc-bd5e-b566bb2fb03f",
     "showTitle": false,
     "title": ""
    }
   },
   "source": [
    "$$c = \\\\pm\\\\sqrt{a^2 + b^2}$$"
   ]
  },
  {
   "cell_type": "code",
   "execution_count": 0,
   "metadata": {
    "application/vnd.databricks.v1+cell": {
     "cellMetadata": {
      "byteLimit": 2048000,
      "rowLimit": 10000
     },
     "inputWidgets": {},
     "nuid": "f9339a7d-2b47-4333-90ed-c32d3040217d",
     "showTitle": false,
     "title": ""
    }
   },
   "outputs": [],
   "source": [
    "%pip install panflute"
   ]
  },
  {
   "cell_type": "code",
   "execution_count": 0,
   "metadata": {
    "application/vnd.databricks.v1+cell": {
     "cellMetadata": {
      "byteLimit": 2048000,
      "rowLimit": 10000
     },
     "inputWidgets": {},
     "nuid": "ce108a0b-3b5c-4a2f-a758-d4eec2375fd8",
     "showTitle": false,
     "title": ""
    }
   },
   "outputs": [],
   "source": [
    "import pandoc\n",
    "from panflute import *\n",
    "\n",
    "def latex_to_markdown_table(latex_str):\n",
    "    # First, convert the LaTeX table to a more structured format\n",
    "    rows = []\n",
    "    in_table = False\n",
    "    \n",
    "    for line in latex_str.split('\\n'):\n",
    "        if '\\\\begin{tabular}' in line:\n",
    "            in_table = True\n",
    "            continue\n",
    "        elif '\\\\end{tabular}' in line:\n",
    "            in_table = False\n",
    "            continue\n",
    "        elif '\\\\hline' in line:\n",
    "            continue\n",
    "            \n",
    "        if in_table and line.strip():\n",
    "            # Remove trailing \\\\\n",
    "            line = line.replace('\\\\\\\\', '')\n",
    "            # Split by & and strip whitespace\n",
    "            cells = [cell.strip() for cell in line.split('&')]\n",
    "            rows.append(cells)\n",
    "    \n",
    "    # Convert to markdown table format\n",
    "    if not rows:\n",
    "        return \"\"\n",
    "        \n",
    "    markdown_table = []\n",
    "    # Header\n",
    "    markdown_table.append(\"| \" + \" | \".join(rows[0]) + \" |\")\n",
    "    # Separator\n",
    "    markdown_table.append(\"| \" + \" | \".join(['---'] * len(rows[0])) + \" |\")\n",
    "    # Data rows\n",
    "    for row in rows[1:]:\n",
    "        markdown_table.append(\"| \" + \" | \".join(row) + \" |\")\n",
    "    \n",
    "    return \"\\n\".join(markdown_table)\n",
    "\n",
    "# Your LaTeX table\n",
    "test_str = r\"\"\"\\begin{tabular}{|l|l|}\\hline\n",
    "Age & Frequency \\\\ \\hline\n",
    "18--25  & 15 \\\\\n",
    "26--35  & 33 \\\\\n",
    "36--45  & 22 \\\\ \\hline\n",
    "\\end{tabular}\n",
    "\"\"\"\n",
    "\n",
    "# Convert to markdown table\n",
    "markdown_table = latex_to_markdown_table(test_str)\n",
    "print(\"Markdown table:\")\n",
    "print(markdown_table)\n",
    "\n",
    "# Convert to HTML using pandoc\n",
    "doc = pandoc.read(markdown_table, format=\"markdown\")\n",
    "html = pandoc.write(doc, format=\"html\")\n",
    "print(\"\\nHTML output:\")\n",
    "print(html)"
   ]
  },
  {
   "cell_type": "code",
   "execution_count": 0,
   "metadata": {
    "application/vnd.databricks.v1+cell": {
     "cellMetadata": {
      "byteLimit": 2048000,
      "rowLimit": 10000
     },
     "inputWidgets": {},
     "nuid": "cfae1c2d-cce4-40eb-818e-4408b3b318b7",
     "showTitle": false,
     "title": ""
    }
   },
   "outputs": [],
   "source": [
    "pandoc.write(out, format=\"markdown_strict+raw_html\")"
   ]
  },
  {
   "cell_type": "code",
   "execution_count": 0,
   "metadata": {
    "application/vnd.databricks.v1+cell": {
     "cellMetadata": {
      "byteLimit": 2048000,
      "rowLimit": 10000
     },
     "inputWidgets": {},
     "nuid": "59f4c283-7c82-4d1c-8cc4-f3183fd107c6",
     "showTitle": false,
     "title": ""
    }
   },
   "outputs": [],
   "source": [
    "from pandoc.types import *\n",
    "\n",
    "pandoc.write(RawBlock(Format(\"latex\"), \"\\begin{tabular}{l r r r r r r r r r}  & & & 2015 & & & & & & 2015 vs 2014 & & \\\\% change \\\\\\\\ \\\\cline{2-11}  & Net & \\\\% of & Oper. & Net & \\\\% of & Oper. & Net & Oper. & Net & Oper. \\\\\\\\ (Ballars in millieas) & Sales & Total & Income & Sales & Total & Income & Sales & Income & Sales & Income \\\\\\\\ \\\\hline\\n**Business Segments** & & & & & & & & & & \\\\\\\\ Industrial & \\\\$ & 10,328 & 34.1 \\\\% & \\\\$ & 2,263 & \\\\$ & 10,990 & 34.5 \\\\% & \\\\$ & 2,389 & (6.0)\\\\% & (5.3)\\\\% \\\\\\\\ Safety and Graphics & & 5,515 & 18.2 \\\\% & 1,305 & & 5,732 & 18.0 \\\\% & 1,296 & (3.8)\\\\% & 0.7 \\\\% \\\\\\\\ Health Care & & 5,420 & 17.9 \\\\% & 1,724 & 5,572 & 17.5 \\\\% & 1,724 & (2.7)\\\\% & \\\\(-\\\\)\\\\% \\\\\\\\ Electronics and Energy & & 5,240 & 17.2 \\\\% & 1,802 & 5,604 & 17.6 \\\\% & 1,115 & (6.8)\\\\% & (1.1)\\\\% \\\\\\\\ Consumer & & 4,422 & 14.6 \\\\% & 1,046 & 4,523 & 14.2 \\\\% & 995 & (2.2)\\\\% & 5.2 \\\\% \\\\\\\\ Corporate and Unallocated & & & \\\\(\\\\;\\\\) & \\\\(\\\\;\\\\) \\\\% & (355) & & \\\\(\\\\;\\\\) & \\\\(\\\\;\\\\) \\\\(-\\\\)\\\\% & (251) & \\\\\\\\ Elimination of Dual Credit & & (632) & (2.0)\\\\% & (139) & (604) & (1.8)\\\\% & (133) & \\\\(-\\\\)\\\\% & \\\\(-\\\\)\\\\% \\\\\\\\ Total Company & \\\\$ & **30,274** & **100.0 \\\\%** & \\\\$ & 6,946 & \\\\$ & 31,821 & 100.0 \\\\% & \\\\$ & 7,135 & (4.9)\\\\% & (2.6)\\\\% \\\\\\\\ \\\\end{tabular}\"))"
   ]
  },
  {
   "cell_type": "code",
   "execution_count": 0,
   "metadata": {
    "application/vnd.databricks.v1+cell": {
     "cellMetadata": {},
     "inputWidgets": {},
     "nuid": "05890fd0-a768-4df4-be82-635ad9407745",
     "showTitle": false,
     "title": ""
    }
   },
   "outputs": [],
   "source": []
  }
 ],
 "metadata": {
  "application/vnd.databricks.v1+notebook": {
   "dashboards": [],
   "environmentMetadata": {
    "base_environment": "",
    "client": "1"
   },
   "language": "python",
   "notebookMetadata": {
    "pythonIndentUnit": 2
   },
   "notebookName": "nougat_test",
   "widgets": {}
  }
 },
 "nbformat": 4,
 "nbformat_minor": 0
}
