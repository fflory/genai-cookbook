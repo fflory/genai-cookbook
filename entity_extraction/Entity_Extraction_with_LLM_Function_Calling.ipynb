{
 "cells": [
  {
   "cell_type": "markdown",
   "metadata": {
    "application/vnd.databricks.v1+cell": {
     "cellMetadata": {},
     "inputWidgets": {},
     "nuid": "ca332971-cb5a-4576-8e23-f6a7a58dbe29",
     "showTitle": false,
     "title": ""
    }
   },
   "source": [
    "# Entity Extraction with LLM Function Calling\n",
    "\n",
    "Databricks Doc: https://docs.databricks.com/en/machine-learning/model-serving/function-calling.html\n",
    "\n",
    "OpenAI doc: https://platform.openai.com/docs/guides/function-calling"
   ]
  },
  {
   "cell_type": "code",
   "execution_count": 0,
   "metadata": {
    "application/vnd.databricks.v1+cell": {
     "cellMetadata": {
      "byteLimit": 2048000,
      "rowLimit": 10000
     },
     "inputWidgets": {},
     "nuid": "d7f8d10a-f073-4530-a071-9f332bff1f83",
     "showTitle": false,
     "title": ""
    }
   },
   "outputs": [],
   "source": [
    "%pip install mlflow openai --quiet\n",
    "\n",
    "dbutils.library.restartPython()"
   ]
  },
  {
   "cell_type": "code",
   "execution_count": 0,
   "metadata": {
    "application/vnd.databricks.v1+cell": {
     "cellMetadata": {
      "byteLimit": 2048000,
      "rowLimit": 10000
     },
     "inputWidgets": {},
     "nuid": "a5d549fc-30c9-44da-9632-cad61662c22c",
     "showTitle": false,
     "title": ""
    }
   },
   "outputs": [],
   "source": [
    "%run ../rag_app_sample_code/A_POC_app/pdf_uc_volume/00_config"
   ]
  },
  {
   "cell_type": "markdown",
   "metadata": {
    "application/vnd.databricks.v1+cell": {
     "cellMetadata": {},
     "inputWidgets": {},
     "nuid": "b6362523-4ae9-4fb3-a2e0-2d72c6ed8b8c",
     "showTitle": false,
     "title": ""
    }
   },
   "source": [
    "## Preparation"
   ]
  },
  {
   "cell_type": "code",
   "execution_count": 0,
   "metadata": {
    "application/vnd.databricks.v1+cell": {
     "cellMetadata": {
      "byteLimit": 2048000,
      "rowLimit": 10000
     },
     "inputWidgets": {},
     "nuid": "424cad31-81e3-48d3-b79c-6c700c523d68",
     "showTitle": false,
     "title": ""
    }
   },
   "outputs": [],
   "source": [
    "# get Databricks credentials\n",
    "import openai\n",
    "from mlflow.utils.databricks_utils import get_databricks_host_creds\n",
    "\n",
    "creds = get_databricks_host_creds()"
   ]
  },
  {
   "cell_type": "code",
   "execution_count": 0,
   "metadata": {
    "application/vnd.databricks.v1+cell": {
     "cellMetadata": {
      "byteLimit": 2048000,
      "rowLimit": 10000
     },
     "inputWidgets": {},
     "nuid": "5d24bd66-2ec6-4343-abca-32a836516b10",
     "showTitle": false,
     "title": ""
    }
   },
   "outputs": [],
   "source": [
    "# use openai's client to make calls to Databricks Foundation Model API\n",
    "client = openai.OpenAI(\n",
    "    api_key=creds.token,\n",
    "    base_url=creds.host + '/serving-endpoints',\n",
    ")\n",
    "\n",
    "model = \"databricks-meta-llama-3-1-70b-instruct\""
   ]
  },
  {
   "cell_type": "code",
   "execution_count": 0,
   "metadata": {
    "application/vnd.databricks.v1+cell": {
     "cellMetadata": {
      "byteLimit": 2048000,
      "rowLimit": 10000
     },
     "inputWidgets": {},
     "nuid": "e60cef7b-9b66-4efd-8116-5b75ce6b530f",
     "showTitle": false,
     "title": ""
    }
   },
   "outputs": [],
   "source": [
    "# # I used a LLM to create a fake insurance claim data as an example\n",
    "# import os\n",
    "\n",
    "# file_path = \"/Workspace/Users/david.huang@databricks.com/client-demos/function-calling/synth-gen-sample.txt\"\n",
    "\n",
    "# with open(file_path, 'r') as file:\n",
    "#     sample = file.read()\n",
    "\n",
    "# print(sample)"
   ]
  },
  {
   "cell_type": "code",
   "execution_count": 0,
   "metadata": {
    "application/vnd.databricks.v1+cell": {
     "cellMetadata": {
      "byteLimit": 2048000,
      "rowLimit": 10000
     },
     "inputWidgets": {},
     "nuid": "3b8ed9f8-3477-485b-a508-ba5a68b9f00b",
     "showTitle": false,
     "title": ""
    }
   },
   "outputs": [],
   "source": [
    "parsed_docs = spark.table(destination_tables_config[\"parsed_docs_table_name\"])"
   ]
  },
  {
   "cell_type": "code",
   "execution_count": 0,
   "metadata": {
    "application/vnd.databricks.v1+cell": {
     "cellMetadata": {
      "byteLimit": 2048000,
      "rowLimit": 10000
     },
     "inputWidgets": {},
     "nuid": "62c8b713-d5f8-499a-9ad8-18f4661eef67",
     "showTitle": false,
     "title": ""
    }
   },
   "outputs": [],
   "source": [
    "display(parsed_docs)"
   ]
  },
  {
   "cell_type": "code",
   "execution_count": 0,
   "metadata": {
    "application/vnd.databricks.v1+cell": {
     "cellMetadata": {
      "byteLimit": 2048000,
      "rowLimit": 10000
     },
     "inputWidgets": {},
     "nuid": "0eb41cc1-6635-472f-afab-70fd47a8d43e",
     "showTitle": false,
     "title": ""
    }
   },
   "outputs": [],
   "source": [
    "import pyspark.sql.functions as F\n",
    "_path = \"dbfs:/Volumes/felixflory/ey_dbs_workshop_2024_10/raw_data/project_churches/Project Churches - FINAL Red Flag Report 181121.pdf\"\n",
    "F.lit(_path)"
   ]
  },
  {
   "cell_type": "code",
   "execution_count": 0,
   "metadata": {
    "application/vnd.databricks.v1+cell": {
     "cellMetadata": {
      "byteLimit": 2048000,
      "rowLimit": 10000
     },
     "inputWidgets": {},
     "nuid": "05fc4f94-c479-4991-8775-0bb4b16cab87",
     "showTitle": false,
     "title": ""
    }
   },
   "outputs": [],
   "source": [
    "sample = (\n",
    "  parsed_docs\n",
    "  .select(\"doc_parsed_contents\")\n",
    "  .where(F.col(\"path\") == F.lit(_path))\n",
    "  .take(1)[0].doc_parsed_contents['parsed_content'])"
   ]
  },
  {
   "cell_type": "code",
   "execution_count": 0,
   "metadata": {
    "application/vnd.databricks.v1+cell": {
     "cellMetadata": {
      "byteLimit": 2048000,
      "rowLimit": 10000
     },
     "inputWidgets": {},
     "nuid": "07e49d85-963e-4186-a0e8-ac0b331d2fc1",
     "showTitle": false,
     "title": ""
    }
   },
   "outputs": [],
   "source": [
    "print(sample)"
   ]
  },
  {
   "cell_type": "markdown",
   "metadata": {
    "application/vnd.databricks.v1+cell": {
     "cellMetadata": {},
     "inputWidgets": {},
     "nuid": "bdaee9ac-4a4d-4858-bb91-dba5ad119f22",
     "showTitle": false,
     "title": ""
    }
   },
   "source": [
    "## `function-calling` with Llama 3.1 70b\n",
    "\n",
    "* Since you are looking to extract information from a peice of text and perform structured output, `function-calling` is a good tool for this\n",
    "* Basically, you are constraining the output of the LLM to something that's structured and valid\n",
    "* At this time, out of all the models that we offer in our Foundation Model API, only `databricks-meta-llama-3-1-70b-instruct` currently have `function-calling` enabled. "
   ]
  },
  {
   "cell_type": "code",
   "execution_count": 0,
   "metadata": {
    "application/vnd.databricks.v1+cell": {
     "cellMetadata": {
      "byteLimit": 2048000,
      "rowLimit": 10000
     },
     "inputWidgets": {},
     "nuid": "cba5fc07-c0ba-456d-9f3d-443d5ff563bd",
     "showTitle": false,
     "title": ""
    }
   },
   "outputs": [],
   "source": [
    "# create your function schema\n",
    "get_company_information_1 = {\n",
    "    \"type\": \"function\",\n",
    "    \"function\": {\n",
    "        \"name\": \"get_EBITDA_kpi_1\",\n",
    "        \"description\": \"Get EBITDA kpi values\",\n",
    "        \"parameters\": {\n",
    "            \"type\": \"object\",\n",
    "            \"properties\": {\n",
    "                \"reported_EBITDA\": {\n",
    "                    \"type\": \"string\",\n",
    "                    \"description\": \"Reported EBITDA for the year 2021\",\n",
    "                },\n",
    "                \"adjusted_EBITDA\": {\n",
    "                    \"type\": \"string\",\n",
    "                    \"description\": \"adjusted EBITDA for for the year 2021 Source: Management information & EY analysis\",\n",
    "                },\n",
    "                \"adjusted_NWC\": {\n",
    "                    \"type\": \"string\",\n",
    "                    \"description\": \"adjusted NWC for for the Period End Jun21A\",\n",
    "                },\n",
    "            },\n",
    "        },\n",
    "    },\n",
    "}"
   ]
  },
  {
   "cell_type": "markdown",
   "metadata": {
    "application/vnd.databricks.v1+cell": {
     "cellMetadata": {},
     "inputWidgets": {},
     "nuid": "6d5a4b4f-778b-46ca-9da6-24573d78c930",
     "showTitle": false,
     "title": ""
    }
   },
   "source": [
    "Note that only the function_schema is defined and not a function itself. The tool calling below will only produce the function arguments and not call a function itself. The arguments to the function are the extracted entities. "
   ]
  },
  {
   "cell_type": "code",
   "execution_count": 0,
   "metadata": {
    "application/vnd.databricks.v1+cell": {
     "cellMetadata": {
      "byteLimit": 2048000,
      "rowLimit": 10000
     },
     "inputWidgets": {},
     "nuid": "12bad6ec-a515-4f7a-b177-8a4391b9d40d",
     "showTitle": false,
     "title": ""
    }
   },
   "outputs": [],
   "source": [
    "# call LLM with function calling\n",
    "tools = [\n",
    "    get_company_information_1,\n",
    "    # get_claimant_information_2,\n",
    "    # get_claimant_information_3,\n",
    "    # get_claimant_information_4,\n",
    "    # get_claimant_information_5,\n",
    "]\n",
    "\n",
    "messages = [\n",
    "    {\n",
    "        \"role\": \"user\",\n",
    "        \"content\": f\"Given the following information, please provide kpi information: \\n{sample}\\n\",\n",
    "    }\n",
    "]\n",
    "\n",
    "responses = []\n",
    "\n",
    "for t in tools:\n",
    "    response = client.chat.completions.create(\n",
    "        model=model,\n",
    "        messages=messages,\n",
    "        temperature=0.0,\n",
    "        tools=[t],\n",
    "        tool_choice=\"required\",\n",
    "    )\n",
    "    output_string = response.choices[0].message.model_dump()[\"tool_calls\"][0][\n",
    "        \"function\"\n",
    "    ][\"arguments\"]\n",
    "    responses.append(output_string)"
   ]
  },
  {
   "cell_type": "code",
   "execution_count": 0,
   "metadata": {
    "application/vnd.databricks.v1+cell": {
     "cellMetadata": {
      "byteLimit": 2048000,
      "rowLimit": 10000
     },
     "inputWidgets": {},
     "nuid": "b4ecbeaa-f9a2-4408-9fe9-367e1d3d019e",
     "showTitle": false,
     "title": ""
    }
   },
   "outputs": [],
   "source": [
    "# look at output as JSON object\n",
    "import json\n",
    "\n",
    "for r in responses:\n",
    "    json_obj = json.loads(r)\n",
    "    print(json.dumps(json_obj, indent=4))"
   ]
  },
  {
   "cell_type": "code",
   "execution_count": 0,
   "metadata": {
    "application/vnd.databricks.v1+cell": {
     "cellMetadata": {
      "byteLimit": 2048000,
      "rowLimit": 10000
     },
     "inputWidgets": {},
     "nuid": "124a4405-b488-4fb3-a425-8561abc43785",
     "showTitle": false,
     "title": ""
    }
   },
   "outputs": [],
   "source": [
    "response.usage.total_tokens"
   ]
  }
 ],
 "metadata": {
  "application/vnd.databricks.v1+notebook": {
   "dashboards": [],
   "environmentMetadata": {
    "base_environment": "",
    "client": "1"
   },
   "language": "python",
   "notebookMetadata": {
    "pythonIndentUnit": 2
   },
   "notebookName": "Entity_Extraction_with_LLM_Function_Calling",
   "widgets": {}
  }
 },
 "nbformat": 4,
 "nbformat_minor": 0
}
